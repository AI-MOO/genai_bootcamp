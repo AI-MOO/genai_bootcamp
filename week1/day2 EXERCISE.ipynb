{
 "cells": [
  {
   "cell_type": "markdown",
   "metadata": {
    "vscode": {
     "languageId": "plaintext"
    }
   },
   "source": [
    "# Welcome to your first assignment!\n",
    "\n",
    "Instructions are below. Please give this a try, and look in the solutions folder if you get stuck (or feel free to ask me!)"
   ]
  },
  {
   "cell_type": "markdown",
   "metadata": {},
   "source": [
    "<table style=\"margin: 0; text-align: left;\">\n",
    "    <tr>\n",
    "        <td style=\"width: 150px; height: 150px; vertical-align: middle;\">\n",
    "            <img src=\"../resources.jpg\" width=\"150\" height=\"150\" style=\"display: block;\" />\n",
    "        </td>\n",
    "        <td>\n",
    "            <h2 style=\"color:#f71;\">Just before we get to the assignment --</h2>\n",
    "            <span style=\"color:#f71;\">I thought I'd take a second to point you at this page of useful resources for the course. This includes links to all the slides.<br/>\n",
    "            <a href=\"https://edwarddonner.com/2024/11/13/llm-engineering-resources/\">https://edwarddonner.com/2024/11/13/llm-engineering-resources/</a><br/>\n",
    "            Please keep this bookmarked, and I'll continue to add more useful links there over time.\n",
    "            </span>\n",
    "        </td>\n",
    "    </tr>\n",
    "</table>"
   ]
  },
  {
   "cell_type": "markdown",
   "metadata": {},
   "source": [
    "# HOMEWORK EXERCISE ASSIGNMENT\n",
    "\n",
    "Upgrade the day 1 project to summarize a webpage to use an Open Source model running locally via Ollama rather than OpenAI\n",
    "\n",
    "You'll be able to use this technique for all subsequent projects if you'd prefer not to use paid APIs.\n",
    "\n",
    "**Benefits:**\n",
    "1. No API charges - open-source\n",
    "2. Data doesn't leave your box\n",
    "\n",
    "**Disadvantages:**\n",
    "1. Significantly less power than Frontier Model\n",
    "\n",
    "## Recap on installation of Ollama\n",
    "\n",
    "Simply visit [ollama.com](https://ollama.com) and install!\n",
    "\n",
    "Once complete, the ollama server should already be running locally.  \n",
    "If you visit:  \n",
    "[http://localhost:11434/](http://localhost:11434/)\n",
    "\n",
    "You should see the message `Ollama is running`.  \n",
    "\n",
    "If not, bring up a new Terminal (Mac) or Powershell (Windows) and enter `ollama serve`  \n",
    "And in another Terminal (Mac) or Powershell (Windows), enter `ollama pull llama3.2`  \n",
    "Then try [http://localhost:11434/](http://localhost:11434/) again.\n",
    "\n",
    "If Ollama is slow on your machine, try using `llama3.2:1b` as an alternative. Run `ollama pull llama3.2:1b` from a Terminal or Powershell, and change the code below from `MODEL = \"llama3.2\"` to `MODEL = \"llama3.2:1b\"`"
   ]
  },
  {
   "cell_type": "code",
   "execution_count": 1,
   "metadata": {},
   "outputs": [],
   "source": [
    "# imports\n",
    "\n",
    "import requests\n",
    "from bs4 import BeautifulSoup\n",
    "from IPython.display import Markdown, display"
   ]
  },
  {
   "cell_type": "code",
   "execution_count": 2,
   "metadata": {},
   "outputs": [],
   "source": [
    "# Constants\n",
    "\n",
    "OLLAMA_API = \"http://localhost:11434/api/chat\"\n",
    "HEADERS = {\"Content-Type\": \"application/json\"}\n",
    "MODEL = \"llama3.2\""
   ]
  },
  {
   "cell_type": "code",
   "execution_count": 4,
   "metadata": {},
   "outputs": [],
   "source": [
    "messages = [\n",
    "    {\"role\":\"user\", \"content\":\"Describe some of the business applications of Generative ai\"}\n",
    "\n",
    "]"
   ]
  },
  {
   "cell_type": "code",
   "execution_count": 6,
   "metadata": {},
   "outputs": [],
   "source": [
    "payload = {\n",
    "    \"model\": MODEL,\n",
    "    \"messages\": messages,\n",
    "    \"stream\":False\n",
    "}"
   ]
  },
  {
   "cell_type": "code",
   "execution_count": 8,
   "metadata": {},
   "outputs": [
    {
     "name": "stdout",
     "output_type": "stream",
     "text": [
      "Generative AI has numerous business applications across various industries, including:\n",
      "\n",
      "1. **Content Creation**: AI-powered tools can generate high-quality content such as articles, social media posts, and product descriptions, saving time and resources for content creators.\n",
      "2. **Personalized Marketing**: Generative AI can help create personalized marketing materials, such as customized ads, product recommendations, and customer emails, improving engagement and conversion rates.\n",
      "3. **Image and Video Generation**: AI-powered tools can generate high-quality images and videos for use in advertising, product demos, and social media campaigns.\n",
      "4. **Chatbots and Virtual Assistants**: Generative AI can power chatbots and virtual assistants, enabling businesses to provide 24/7 customer support and improve user experience.\n",
      "5. **Predictive Analytics**: AI-powered predictive analytics tools can analyze large datasets to forecast sales, identify trends, and optimize business strategies.\n",
      "6. **Product Design**: Generative AI can help design new products by generating 3D models, prototypes, and product configurations, reducing the time and cost associated with traditional design processes.\n",
      "7. **Speech-to-Text and Voice Cloning**: AI-powered tools can transcribe audio recordings into text and create custom voice clones for business applications such as customer service, podcasting, or audiobooks.\n",
      "8. **Social Media Management**: Generative AI can help manage social media accounts by generating posts, responding to comments, and analyzing engagement metrics.\n",
      "9. **Customer Segmentation**: AI-powered tools can analyze customer data and segment them into targeted groups, enabling businesses to create more effective marketing campaigns and improve customer retention.\n",
      "10. **Automated Writing**: Generative AI can assist writers with content creation, research, and editing, freeing up time for more complex tasks like strategy development and creative direction.\n",
      "\n",
      "Some specific business examples of generative AI include:\n",
      "\n",
      "* **Walmart's AI-powered chatbot** that helps customers with product-related queries and provides personalized recommendations.\n",
      "* **L'Oréal's Generative AI-powered makeup advisor** that recommends products based on individual skin types and preferences.\n",
      "* **Microsoft's AI-powered content creation tool** that generates high-quality articles, blog posts, and social media content.\n",
      "\n",
      "These are just a few examples of the many business applications of generative AI. As the technology continues to evolve, we can expect to see even more innovative uses across various industries.\n"
     ]
    }
   ],
   "source": [
    "response = requests.post(OLLAMA_API, json=payload, headers=HEADERS)\n",
    "print(response.json()['message']['content'])"
   ]
  },
  {
   "cell_type": "markdown",
   "metadata": {},
   "source": [
    "# Introducing the ollama package\n",
    "\n",
    "And now we'll do the same thing, but using the elegant ollama python package instead of a direct HTTP call.\n",
    "\n",
    "Under the hood, it's making the same call as above to the ollama server running at localhost:11434"
   ]
  },
  {
   "cell_type": "code",
   "execution_count": 9,
   "metadata": {},
   "outputs": [
    {
     "name": "stdout",
     "output_type": "stream",
     "text": [
      "Generative AI has numerous business applications across various industries, including:\n",
      "\n",
      "1. **Content Creation**: Generative AI can be used to generate high-quality content such as text, images, videos, and music. This can be particularly useful for businesses that need to create a large volume of content quickly, such as:\n",
      "\t* Social media management\n",
      "\t* Blogging\n",
      "\t* Advertising\n",
      "\t* Marketing materials (e.g., product descriptions, brochures)\n",
      "2. **Design and Product Development**: Generative AI can assist in designing new products, services, or experiences by generating ideas, prototypes, and even entire products. This can be useful for:\n",
      "\t* Product design and engineering\n",
      "\t* User experience (UX) design\n",
      "\t* Virtual product creation\n",
      "3. **Data Analysis and Visualization**: Generative AI can help analyze large datasets and generate insights, visualizations, and reports to inform business decisions. This can be useful for:\n",
      "\t* Data science and analytics\n",
      "\t* Business intelligence\n",
      "\t* Predictive modeling\n",
      "4. **Customer Service and Support**: Generative AI-powered chatbots and virtual assistants can provide 24/7 customer support, helping businesses to:\n",
      "\t* Improve customer satisfaction\n",
      "\t* Reduce response times\n",
      "\t* Enhance the overall customer experience\n",
      "5. **Marketing Automation**: Generative AI can be used to automate marketing tasks such as email campaigns, ad targeting, and lead generation. This can help businesses to:\n",
      "\t* Increase sales conversions\n",
      "\t* Personalize marketing messages\n",
      "\t* Optimize marketing campaigns\n",
      "6. **Language Translation**: Generative AI-powered translation tools can help businesses communicate with customers in different languages, improving global outreach and revenue. This can be useful for:\n",
      "\t* International business expansion\n",
      "\t* Multilingual customer support\n",
      "7. **Creative Writing and Storytelling**: Generative AI can assist in generating creative writing, such as scripts, articles, or even entire books. This can be useful for:\n",
      "\t* Content creation agencies\n",
      "\t* Advertising agencies\n",
      "\t* Publishing companies\n",
      "8. **Music and Audio Generation**: Generative AI can create original music, sound effects, or even entire audio tracks. This can be useful for:\n",
      "\t* Music production companies\n",
      "\t* Film and video game scoring\n",
      "9. **Video and Image Editing**: Generative AI-powered editing tools can help businesses to edit videos and images more efficiently, improving the overall quality of their visual content. This can be useful for:\n",
      "\t* Video production agencies\n",
      "\t* Advertising agencies\n",
      "\t* Social media management companies\n",
      "10. **Cybersecurity**: Generative AI can help detect and prevent cyber threats by analyzing patterns in network traffic, emails, and other data sources. This can be useful for:\n",
      "\t* Cybersecurity agencies\n",
      "\t* Financial institutions\n",
      "\t* Healthcare organizations\n",
      "\n",
      "These are just a few examples of the many business applications of generative AI. As the technology continues to evolve, we can expect to see even more innovative uses of generative AI across various industries.\n"
     ]
    }
   ],
   "source": [
    "import ollama \n",
    "response = ollama.chat(model=MODEL, messages=messages)\n",
    "print(response['message']['content'])"
   ]
  },
  {
   "cell_type": "markdown",
   "metadata": {},
   "source": [
    "## Alternative approach - using OpenAI python library to connect to Ollama"
   ]
  },
  {
   "cell_type": "code",
   "execution_count": 10,
   "metadata": {},
   "outputs": [
    {
     "name": "stdout",
     "output_type": "stream",
     "text": [
      "Generative AI has numerous business applications across various industries, including:\n",
      "\n",
      "1. **Marketing and Advertising**: AI-powered generative models can create personalized product recommendations, social media posts, and even entire ad campaigns.\n",
      "2. **Content Creation**: Generative AI can generate high-quality content such as blog articles, product descriptions, and multimedia content like videos and images.\n",
      "3. **Data Generation**: AI models can generate synthetic data, which can be used for testing and training machine learning models, or to augment existing datasets.\n",
      "4. **Customer Service Chatbots**: Generative AI-powered chatbots can provide personalized customer support, answer frequently asked questions, and even offer solutions to common complaints.\n",
      "5. **Product Design**: AI-generated designs can be used to create innovative new products, packaging, or branding elements for companies.\n",
      "6. **Music and Audio Generation**: Generative models can create new music tracks, suggest melodies, or even create fully-fledged scores.\n",
      "7. **Image and Video Editing**: AI-powered generative models can edit images and videos in real-time, creating realistic effects and enhancements.\n",
      "8. **Predictive Maintenance**: Generative AI models can predict equipment failure, reduce downtime, and optimize maintenance schedules for companies with complex machinery.\n",
      "9. **Automated Customer Segmentation**: AI-generated profiles of customers can help businesses better understand their target audience, tailor marketing campaigns, and enhance customer experiences.\n",
      "10. **Speech-to-Text Transclusion**: Generative AI models can translate spoken language into text, with applications in transcription services, subtitles for multimedia content, and speech-enabled interfaces.\n",
      "\n",
      "Some specific business applications of Generative AI include:\n",
      "\n",
      "1. **Savings-focused financial institutions**: Implementing generative AI-powered tools to create more personalized investment advice and portfolio optimization\n",
      "2. **Healthcare provider hospitals with insurance companies**: Developing AI algorithms that can simulate potential claims scenarios, help assess patient data quality, predicting likelihood of future expenses from claims history\n",
      "\n",
      "Industry examples:\n",
      "\n",
      "* Shopify uses Generative AI to generate recommendations on product options\n",
      "* Airbnb utilizes algorithm to automate pricing\n",
      "* Apple utilizes a computer program to create realistic, 3D avatars\n"
     ]
    }
   ],
   "source": [
    "# There's actually an alternative approach that some people might prefer\n",
    "# You can use the OpenAI client python library to call Ollama:\n",
    "\n",
    "from openai import OpenAI\n",
    "ollama_via_openai = OpenAI(base_url='http://localhost:11434/v1', api_key='ollama')\n",
    "\n",
    "response = ollama_via_openai.chat.completions.create(\n",
    "    model=MODEL,\n",
    "    messages=messages\n",
    ")\n",
    "\n",
    "print(response.choices[0].message.content)"
   ]
  },
  {
   "cell_type": "markdown",
   "metadata": {},
   "source": [
    "# NOW the exercise for you\n",
    "\n",
    "Take the code from day1 and incorporate it here, to build a website summarizer that uses Llama 3.2 running locally instead of OpenAI; use either of the above approaches."
   ]
  },
  {
   "cell_type": "code",
   "execution_count": null,
   "metadata": {},
   "outputs": [],
   "source": [
    "# imports\n",
    "import os\n",
    "import requests\n",
    "from bs4 import BeautifulSoup\n",
    "from IPython.display import Markdown, display\n",
    "from openai import OpenAI\n",
    "\n",
    "# If you get an error running this cell, then please head over to the troubleshooting notebook!"
   ]
  },
  {
   "cell_type": "code",
   "execution_count": 12,
   "metadata": {},
   "outputs": [],
   "source": [
    "from openai import OpenAI\n",
    "ollama_via_openai = OpenAI(base_url='http://localhost:11434/v1', api_key='ollama')\n"
   ]
  },
  {
   "cell_type": "code",
   "execution_count": 13,
   "metadata": {},
   "outputs": [],
   "source": [
    "class Website: \n",
    "    \"\"\"\n",
    "    A utility class to represent a website that we have scraped \n",
    "    \"\"\"\n",
    "    url:str \n",
    "    title:str \n",
    "    text:str \n",
    "\n",
    "    def __init__(self, url):\n",
    "        \"\"\"\n",
    "        Create this website from the given url using BeautifulSoup library \n",
    "        \"\"\"\n",
    "        self.url = url \n",
    "        response = requests.get(url)\n",
    "        soup = BeautifulSoup(response.content, 'html.parser')\n",
    "        self.title = soup.title.string if soup.title else \"No title found\"\n",
    "        for irrelvant in soup.body([\"script\", \"style\", \"img\", \"input\"]):\n",
    "            irrelvant.decompose()\n",
    "        self.text = soup.body.get_text(separator=\"\\n\", strip=True)"
   ]
  },
  {
   "cell_type": "code",
   "execution_count": 14,
   "metadata": {},
   "outputs": [],
   "source": [
    "system_prompt = \"You are an assistant that analyzes the contents of a website \\\n",
    "and provides a short summary, ignoring text that might be navigation related. \\\n",
    "Respond in markdown.\"\n",
    "\n",
    "# A function that writes a User Prompt that asks for summaries of websites:\n",
    "\n",
    "def user_prompt_for(website):\n",
    "    user_prompt = f\"You are looking at a website titled {website.title}\"\n",
    "    user_prompt += \"\\nThe contents of this website is as follows; \\\n",
    "please provide a short summary of this website in markdown. \\\n",
    "If it includes news or announcements, then summarize these too.\\n\\n\"\n",
    "    user_prompt += website.text\n",
    "    return user_prompt"
   ]
  },
  {
   "cell_type": "code",
   "execution_count": 15,
   "metadata": {},
   "outputs": [],
   "source": [
    "# See how this function creates exactly the format above\n",
    "def messages_for(website):\n",
    "    return [\n",
    "    {\"role\": \"system\", \"content\":system_prompt},\n",
    "    {\"role\": \"user\", \"content\": user_prompt_for(website)}\n",
    "    ]"
   ]
  },
  {
   "cell_type": "code",
   "execution_count": 18,
   "metadata": {},
   "outputs": [],
   "source": [
    "# And now: call the OpenAI API. You will get very familiar with this!\n",
    "def summarize(url):\n",
    "    website = Website(url)\n",
    "    response=ollama_via_openai.chat.completions.create(\n",
    "        model=MODEL,\n",
    "        messages=messages_for(website)\n",
    "    )\n",
    "    return response.choices[0].message.content "
   ]
  },
  {
   "cell_type": "code",
   "execution_count": 19,
   "metadata": {},
   "outputs": [
    {
     "data": {
      "text/plain": [
       "'**Summary**\\n================\\n\\n### Website Overview\\n\\nThe website belongs to Edward Donner, a co-founder and CTO of Nebula.io, an AI startup that applies AI to help people discover their potential.\\n\\n### News/Announcements\\n\\n*   **December 21, 2024**: Welcome message for SuperDataScientists (no content provided)\\n*   **November 13, 2024**: Announcement with Mastering AI and LLM Engineering – Resources, but no details are given\\n*   **October 16, 2024**: Announcement with From Software Engineer to AI Data Scientist resources\\n*   **August 6, 2024**: Introduction to Outsmart LLM Arena (a blog post on pitting LLMs against each other)'"
      ]
     },
     "execution_count": 19,
     "metadata": {},
     "output_type": "execute_result"
    }
   ],
   "source": [
    "ed = \"https://edwarddonner.com\"\n",
    "summarize(ed)"
   ]
  },
  {
   "cell_type": "code",
   "execution_count": 20,
   "metadata": {},
   "outputs": [],
   "source": [
    "# A function to display this nicely in the Jupyter output, using markdown\n",
    "def display_summary(url):\n",
    "    summary = summarize(url)\n",
    "    display(Markdown(summary))"
   ]
  },
  {
   "cell_type": "code",
   "execution_count": 21,
   "metadata": {},
   "outputs": [
    {
     "data": {
      "text/markdown": [
       "**Summary**\n",
       "===============\n",
       "\n",
       "*   The website is home to \"Outsmart,\" an arena where Large Language Models (LLMs) compete in a battle of diplomacy and deviousness.\n",
       "*   The website also includes information about the founder, Ed Donner, who co-founded Nebula.io and worked on various AI-related projects.\n",
       "*   News/Announcements:\n",
       "    *   December 21, 2024: \"Welcome, SuperDataScientists!\" (a newsletter address but no additional content provided)\n",
       "    *   November 13, 2024: Mastering AI and LLM Engineering – Resources\n",
       "        *   A link to resources for Mastering AI and LLM Engineering\n",
       "    *   October 16, 2024: From Software Engineer to AI Data Scientist – resources\n",
       "        *   A link to resources for transitioning from a software engineer to an AI data scientist\n",
       "    *   August 6, 2024: Outsmart LLM Arena \n",
       "        *   Announcement about the launch of an arena for LLMs"
      ],
      "text/plain": [
       "<IPython.core.display.Markdown object>"
      ]
     },
     "metadata": {},
     "output_type": "display_data"
    }
   ],
   "source": [
    "display_summary(ed)"
   ]
  }
 ],
 "metadata": {
  "kernelspec": {
   "display_name": "llm_env",
   "language": "python",
   "name": "python3"
  },
  "language_info": {
   "codemirror_mode": {
    "name": "ipython",
    "version": 3
   },
   "file_extension": ".py",
   "mimetype": "text/x-python",
   "name": "python",
   "nbconvert_exporter": "python",
   "pygments_lexer": "ipython3",
   "version": "3.9.2"
  }
 },
 "nbformat": 4,
 "nbformat_minor": 2
}
